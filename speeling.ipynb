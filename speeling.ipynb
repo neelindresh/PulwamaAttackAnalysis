{
 "cells": [
  {
   "cell_type": "code",
   "execution_count": 68,
   "metadata": {},
   "outputs": [],
   "source": [
    "from gingerit.gingerit import GingerIt\n",
    "\n",
    "from textblob import TextBlob\n",
    "parser = GingerIt()\n"
   ]
  },
  {
   "cell_type": "code",
   "execution_count": 69,
   "metadata": {},
   "outputs": [],
   "source": [
    "from textblob import TextBlob\n"
   ]
  },
  {
   "cell_type": "code",
   "execution_count": 70,
   "metadata": {},
   "outputs": [],
   "source": [
    "import ContractedText"
   ]
  },
  {
   "cell_type": "code",
   "execution_count": 71,
   "metadata": {},
   "outputs": [],
   "source": [
    "line=\"#Americans came in wd full support fr #India after d #PulwamaAttack , bt wait der support hs a rider. US don't want India to go on full war agnst #Pakistan , rather they want something like #SurgicalStrike or Lil more than dt bt nt much.\"\n",
    "    "
   ]
  },
  {
   "cell_type": "code",
   "execution_count": 72,
   "metadata": {},
   "outputs": [
    {
     "name": "stdout",
     "output_type": "stream",
     "text": [
      "wd well done\n",
      "bt bit torrent\n",
      "der there\n",
      "hs headshot\n",
      "don't do not\n",
      "dt double team\n",
      "bt bit torrent\n",
      "nt nice try\n"
     ]
    }
   ],
   "source": [
    "splitLine=line.split()\n",
    "for i in line.split():\n",
    "    if i in ContractedText.CONTRACTION_MAP:\n",
    "        print(i,ContractedText.CONTRACTION_MAP[i])\n",
    "        splitLine[splitLine.index(i)]=ContractedText.CONTRACTION_MAP[i]\n",
    "    if i in Abbr_dict :\n",
    "        print(i,Abbr_dict[i])\n",
    "        splitLine[splitLine.index(i)]=Abbr_dict[i]"
   ]
  },
  {
   "cell_type": "code",
   "execution_count": 73,
   "metadata": {},
   "outputs": [
    {
     "data": {
      "text/plain": [
       "'#Americans came in well done full support fr #India after d #PulwamaAttack , bit torrent wait there support headshot a rider. US do not want India to go on full war agnst #Pakistan , rather they want something like #SurgicalStrike or Lil more than double team bit torrent nice try much.'"
      ]
     },
     "execution_count": 73,
     "metadata": {},
     "output_type": "execute_result"
    }
   ],
   "source": [
    "' '.join(splitLine)"
   ]
  },
  {
   "cell_type": "code",
   "execution_count": 74,
   "metadata": {},
   "outputs": [],
   "source": [
    "import json"
   ]
  },
  {
   "cell_type": "code",
   "execution_count": 75,
   "metadata": {},
   "outputs": [
    {
     "data": {
      "text/plain": [
       "\"#Americans came in wd full support fr #India after d #PulwamaAttack , bt wait der support hs a rider. US don't want India to go on full war agnst #Pakistan , rather they want something like #SurgicalStrike or Lil more than dt bt nt much.\""
      ]
     },
     "execution_count": 75,
     "metadata": {},
     "output_type": "execute_result"
    }
   ],
   "source": [
    "line"
   ]
  },
  {
   "cell_type": "code",
   "execution_count": 76,
   "metadata": {},
   "outputs": [],
   "source": [
    "from textblob import TextBlob"
   ]
  },
  {
   "cell_type": "code",
   "execution_count": 77,
   "metadata": {},
   "outputs": [],
   "source": [
    "blob=TextBlob(line)"
   ]
  },
  {
   "cell_type": "code",
   "execution_count": 78,
   "metadata": {},
   "outputs": [],
   "source": [
    "blob_Line=blob.correct()"
   ]
  },
  {
   "cell_type": "code",
   "execution_count": 79,
   "metadata": {},
   "outputs": [],
   "source": [
    "blob_Line=str(blob_Line)"
   ]
  },
  {
   "cell_type": "code",
   "execution_count": 80,
   "metadata": {},
   "outputs": [
    {
     "name": "stdout",
     "output_type": "stream",
     "text": [
      "wd we\n",
      "bt it\n",
      "hs he\n",
      "US of\n",
      "agnst against\n",
      "Lil Oil\n",
      "dt it\n",
      "bt it\n",
      "nt it\n"
     ]
    }
   ],
   "source": [
    "for ac,bl in zip(line.split(),blob_Line.split()):\n",
    "    if ac!=bl:\n",
    "        print(ac,bl)"
   ]
  },
  {
   "cell_type": "code",
   "execution_count": 81,
   "metadata": {},
   "outputs": [],
   "source": [
    "from gingerit.gingerit import GingerIt\n",
    "parser = GingerIt()\n",
    "tweet=parser.parse(line)"
   ]
  },
  {
   "cell_type": "code",
   "execution_count": 82,
   "metadata": {},
   "outputs": [
    {
     "name": "stdout",
     "output_type": "stream",
     "text": [
      "wd wild\n",
      "fr for\n",
      "#PulwamaAttack #PulwamaAttac\n",
      "bt but\n",
      "der dear\n",
      "hs has\n",
      "on to\n",
      "agnst against\n",
      "#Pakistan #Pakista\n",
      "dt diet\n",
      "bt but\n",
      "nt not\n",
      "much. much\n"
     ]
    }
   ],
   "source": [
    "for ac,bl in zip(line.split(),tweet['result'].split()):\n",
    "    if ac!=bl:\n",
    "        print(ac,bl)"
   ]
  },
  {
   "cell_type": "code",
   "execution_count": 66,
   "metadata": {},
   "outputs": [
    {
     "data": {
      "text/plain": [
       "\"#Americans came in wild full support for #India after d #PulwamaAttac , but wait dear support has a rider. US don't want India to go to full war against #Pakista , rather they want something like #SurgicalStrike or Lil more than diet but not much\""
      ]
     },
     "execution_count": 66,
     "metadata": {},
     "output_type": "execute_result"
    }
   ],
   "source": [
    "tweet['result']"
   ]
  },
  {
   "cell_type": "code",
   "execution_count": null,
   "metadata": {},
   "outputs": [],
   "source": []
  }
 ],
 "metadata": {
  "kernelspec": {
   "display_name": "Python 3",
   "language": "python",
   "name": "python3"
  },
  "language_info": {
   "codemirror_mode": {
    "name": "ipython",
    "version": 3
   },
   "file_extension": ".py",
   "mimetype": "text/x-python",
   "name": "python",
   "nbconvert_exporter": "python",
   "pygments_lexer": "ipython3",
   "version": "3.6.5"
  }
 },
 "nbformat": 4,
 "nbformat_minor": 2
}
